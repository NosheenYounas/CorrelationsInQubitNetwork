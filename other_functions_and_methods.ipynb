{
 "cells": [
  {
   "cell_type": "code",
   "execution_count": 14,
   "metadata": {},
   "outputs": [],
   "source": [
    "import matplotlib.pyplot as plt\n",
    "import numpy as np\n",
    "import pandas\n",
    "from qutip import*\n",
    "\n",
    "#defining some constants\n",
    "#h = 4.135667696 eV.fs \n",
    "#E = hf = hcf/c = hcv where v is the frequency in wavenumber. This eq gives energy in eV from freq in 1/cm.\n",
    "#c needs to be in cm/fs, c=299792458 m/s = 2.99792458E8 * E-15 * E2 cm/fs = 2.99792458E-5 cm/fs\n",
    "\n",
    "h_0 = 4.135667696\n",
    "c = 2.99792458E-5\n",
    "h = h_0*c\n",
    "vb_all_ref = [[14750, 14699, 14700], [14840, 14751, 14770], [14860, 14804, \n",
    "  14810], [14860, 14858, 14880], [14880, 14918, 14910], [14900, 14952, 14990], [14990, 14992, 15030], [15040, 15022, \n",
    "  15130], [15175, 15210, 15210], [15290, 15306, 15290], [15400, 15363, 15360], [15400, 15416, 15430], [15555, 15456, \n",
    "  15480], [15650, 15512, 15510]]\n",
    "vb = []\n",
    "for x in range(len(vb_all_ref)):\n",
    "               vb.append(np.mean(vb_all_ref[x]))\n",
    "t = pandas.read_csv('LHCII_couplings.csv')"
   ]
  },
  {
   "cell_type": "code",
   "execution_count": 15,
   "metadata": {},
   "outputs": [
    {
     "data": {
      "text/html": [
       "<div>\n",
       "<style scoped>\n",
       "    .dataframe tbody tr th:only-of-type {\n",
       "        vertical-align: middle;\n",
       "    }\n",
       "\n",
       "    .dataframe tbody tr th {\n",
       "        vertical-align: top;\n",
       "    }\n",
       "\n",
       "    .dataframe thead th {\n",
       "        text-align: right;\n",
       "    }\n",
       "</style>\n",
       "<table border=\"1\" class=\"dataframe\">\n",
       "  <thead>\n",
       "    <tr style=\"text-align: right;\">\n",
       "      <th></th>\n",
       "      <th>1</th>\n",
       "      <th>2</th>\n",
       "      <th>3</th>\n",
       "      <th>4</th>\n",
       "      <th>5</th>\n",
       "      <th>6</th>\n",
       "      <th>7</th>\n",
       "      <th>8</th>\n",
       "      <th>9</th>\n",
       "      <th>10</th>\n",
       "      <th>11</th>\n",
       "      <th>12</th>\n",
       "      <th>13</th>\n",
       "      <th>14</th>\n",
       "    </tr>\n",
       "  </thead>\n",
       "  <tbody>\n",
       "    <tr>\n",
       "      <th>0</th>\n",
       "      <td>0.0</td>\n",
       "      <td>36.0</td>\n",
       "      <td>-5.0</td>\n",
       "      <td>-3.0</td>\n",
       "      <td>1.0</td>\n",
       "      <td>-2.0</td>\n",
       "      <td>-3.0</td>\n",
       "      <td>3.0</td>\n",
       "      <td>4.0</td>\n",
       "      <td>-5.0</td>\n",
       "      <td>20.0</td>\n",
       "      <td>2.0</td>\n",
       "      <td>-8.0</td>\n",
       "      <td>2.0</td>\n",
       "    </tr>\n",
       "    <tr>\n",
       "      <th>1</th>\n",
       "      <td>0.0</td>\n",
       "      <td>0.0</td>\n",
       "      <td>15.0</td>\n",
       "      <td>6.0</td>\n",
       "      <td>0.0</td>\n",
       "      <td>5.0</td>\n",
       "      <td>6.0</td>\n",
       "      <td>-6.0</td>\n",
       "      <td>-24.0</td>\n",
       "      <td>-5.0</td>\n",
       "      <td>1.0</td>\n",
       "      <td>8.0</td>\n",
       "      <td>-2.0</td>\n",
       "      <td>0.0</td>\n",
       "    </tr>\n",
       "    <tr>\n",
       "      <th>2</th>\n",
       "      <td>0.0</td>\n",
       "      <td>0.0</td>\n",
       "      <td>0.0</td>\n",
       "      <td>-1.0</td>\n",
       "      <td>0.0</td>\n",
       "      <td>-4.0</td>\n",
       "      <td>6.0</td>\n",
       "      <td>4.0</td>\n",
       "      <td>72.0</td>\n",
       "      <td>7.0</td>\n",
       "      <td>-1.0</td>\n",
       "      <td>1.0</td>\n",
       "      <td>1.0</td>\n",
       "      <td>-5.0</td>\n",
       "    </tr>\n",
       "    <tr>\n",
       "      <th>3</th>\n",
       "      <td>0.0</td>\n",
       "      <td>0.0</td>\n",
       "      <td>0.0</td>\n",
       "      <td>0.0</td>\n",
       "      <td>4.0</td>\n",
       "      <td>71.0</td>\n",
       "      <td>24.0</td>\n",
       "      <td>-4.0</td>\n",
       "      <td>-2.0</td>\n",
       "      <td>0.0</td>\n",
       "      <td>-3.0</td>\n",
       "      <td>3.0</td>\n",
       "      <td>2.0</td>\n",
       "      <td>-3.0</td>\n",
       "    </tr>\n",
       "    <tr>\n",
       "      <th>4</th>\n",
       "      <td>0.0</td>\n",
       "      <td>0.0</td>\n",
       "      <td>0.0</td>\n",
       "      <td>0.0</td>\n",
       "      <td>0.0</td>\n",
       "      <td>9.0</td>\n",
       "      <td>-4.0</td>\n",
       "      <td>-4.0</td>\n",
       "      <td>0.0</td>\n",
       "      <td>1.0</td>\n",
       "      <td>1.0</td>\n",
       "      <td>-2.0</td>\n",
       "      <td>-1.0</td>\n",
       "      <td>0.0</td>\n",
       "    </tr>\n",
       "    <tr>\n",
       "      <th>5</th>\n",
       "      <td>0.0</td>\n",
       "      <td>0.0</td>\n",
       "      <td>0.0</td>\n",
       "      <td>0.0</td>\n",
       "      <td>0.0</td>\n",
       "      <td>0.0</td>\n",
       "      <td>16.0</td>\n",
       "      <td>-5.0</td>\n",
       "      <td>2.0</td>\n",
       "      <td>0.0</td>\n",
       "      <td>-2.0</td>\n",
       "      <td>2.0</td>\n",
       "      <td>2.0</td>\n",
       "      <td>-2.0</td>\n",
       "    </tr>\n",
       "    <tr>\n",
       "      <th>6</th>\n",
       "      <td>0.0</td>\n",
       "      <td>0.0</td>\n",
       "      <td>0.0</td>\n",
       "      <td>0.0</td>\n",
       "      <td>0.0</td>\n",
       "      <td>0.0</td>\n",
       "      <td>0.0</td>\n",
       "      <td>-4.0</td>\n",
       "      <td>-5.0</td>\n",
       "      <td>1.0</td>\n",
       "      <td>-2.0</td>\n",
       "      <td>3.0</td>\n",
       "      <td>3.0</td>\n",
       "      <td>-3.0</td>\n",
       "    </tr>\n",
       "    <tr>\n",
       "      <th>7</th>\n",
       "      <td>0.0</td>\n",
       "      <td>0.0</td>\n",
       "      <td>0.0</td>\n",
       "      <td>0.0</td>\n",
       "      <td>0.0</td>\n",
       "      <td>0.0</td>\n",
       "      <td>0.0</td>\n",
       "      <td>0.0</td>\n",
       "      <td>24.0</td>\n",
       "      <td>43.0</td>\n",
       "      <td>5.0</td>\n",
       "      <td>-1.0</td>\n",
       "      <td>-2.0</td>\n",
       "      <td>1.0</td>\n",
       "    </tr>\n",
       "    <tr>\n",
       "      <th>8</th>\n",
       "      <td>0.0</td>\n",
       "      <td>0.0</td>\n",
       "      <td>0.0</td>\n",
       "      <td>0.0</td>\n",
       "      <td>0.0</td>\n",
       "      <td>0.0</td>\n",
       "      <td>0.0</td>\n",
       "      <td>0.0</td>\n",
       "      <td>0.0</td>\n",
       "      <td>-2.0</td>\n",
       "      <td>4.0</td>\n",
       "      <td>-2.0</td>\n",
       "      <td>-2.0</td>\n",
       "      <td>2.0</td>\n",
       "    </tr>\n",
       "    <tr>\n",
       "      <th>9</th>\n",
       "      <td>0.0</td>\n",
       "      <td>0.0</td>\n",
       "      <td>0.0</td>\n",
       "      <td>0.0</td>\n",
       "      <td>0.0</td>\n",
       "      <td>0.0</td>\n",
       "      <td>0.0</td>\n",
       "      <td>0.0</td>\n",
       "      <td>0.0</td>\n",
       "      <td>0.0</td>\n",
       "      <td>-26.0</td>\n",
       "      <td>13.0</td>\n",
       "      <td>6.0</td>\n",
       "      <td>-1.0</td>\n",
       "    </tr>\n",
       "    <tr>\n",
       "      <th>10</th>\n",
       "      <td>0.0</td>\n",
       "      <td>0.0</td>\n",
       "      <td>0.0</td>\n",
       "      <td>0.0</td>\n",
       "      <td>0.0</td>\n",
       "      <td>0.0</td>\n",
       "      <td>0.0</td>\n",
       "      <td>0.0</td>\n",
       "      <td>0.0</td>\n",
       "      <td>0.0</td>\n",
       "      <td>0.0</td>\n",
       "      <td>99.0</td>\n",
       "      <td>-3.0</td>\n",
       "      <td>1.0</td>\n",
       "    </tr>\n",
       "    <tr>\n",
       "      <th>11</th>\n",
       "      <td>0.0</td>\n",
       "      <td>0.0</td>\n",
       "      <td>0.0</td>\n",
       "      <td>0.0</td>\n",
       "      <td>0.0</td>\n",
       "      <td>0.0</td>\n",
       "      <td>0.0</td>\n",
       "      <td>0.0</td>\n",
       "      <td>0.0</td>\n",
       "      <td>0.0</td>\n",
       "      <td>0.0</td>\n",
       "      <td>0.0</td>\n",
       "      <td>0.0</td>\n",
       "      <td>0.0</td>\n",
       "    </tr>\n",
       "    <tr>\n",
       "      <th>12</th>\n",
       "      <td>0.0</td>\n",
       "      <td>0.0</td>\n",
       "      <td>0.0</td>\n",
       "      <td>0.0</td>\n",
       "      <td>0.0</td>\n",
       "      <td>0.0</td>\n",
       "      <td>0.0</td>\n",
       "      <td>0.0</td>\n",
       "      <td>0.0</td>\n",
       "      <td>0.0</td>\n",
       "      <td>0.0</td>\n",
       "      <td>0.0</td>\n",
       "      <td>0.0</td>\n",
       "      <td>-36.0</td>\n",
       "    </tr>\n",
       "    <tr>\n",
       "      <th>13</th>\n",
       "      <td>0.0</td>\n",
       "      <td>0.0</td>\n",
       "      <td>0.0</td>\n",
       "      <td>0.0</td>\n",
       "      <td>0.0</td>\n",
       "      <td>0.0</td>\n",
       "      <td>0.0</td>\n",
       "      <td>0.0</td>\n",
       "      <td>0.0</td>\n",
       "      <td>0.0</td>\n",
       "      <td>0.0</td>\n",
       "      <td>0.0</td>\n",
       "      <td>0.0</td>\n",
       "      <td>0.0</td>\n",
       "    </tr>\n",
       "  </tbody>\n",
       "</table>\n",
       "</div>"
      ],
      "text/plain": [
       "    1       2       3       4      5       6        7       8      9       \\\n",
       "0    0.0   36.0    -5.0     -3.0   1.0    -2.0     -3.0      3.0      4.0   \n",
       "1    0.0    0.0    15.0      6.0   0.0     5.0      6.0     -6.0    -24.0   \n",
       "2    0.0    0.0     0.0     -1.0   0.0    -4.0      6.0      4.0     72.0   \n",
       "3    0.0    0.0     0.0      0.0   4.0    71.0     24.0     -4.0     -2.0   \n",
       "4    0.0    0.0     0.0      0.0   0.0     9.0     -4.0     -4.0      0.0   \n",
       "5    0.0    0.0     0.0      0.0   0.0     0.0     16.0     -5.0      2.0   \n",
       "6    0.0    0.0     0.0      0.0   0.0     0.0      0.0     -4.0     -5.0   \n",
       "7    0.0    0.0     0.0      0.0   0.0     0.0      0.0      0.0     24.0   \n",
       "8    0.0    0.0     0.0      0.0   0.0     0.0      0.0      0.0      0.0   \n",
       "9    0.0    0.0     0.0      0.0   0.0     0.0      0.0      0.0      0.0   \n",
       "10   0.0    0.0     0.0      0.0   0.0     0.0      0.0      0.0      0.0   \n",
       "11   0.0    0.0     0.0      0.0   0.0     0.0      0.0      0.0      0.0   \n",
       "12   0.0    0.0     0.0      0.0   0.0     0.0      0.0      0.0      0.0   \n",
       "13   0.0    0.0     0.0      0.0   0.0     0.0      0.0      0.0      0.0   \n",
       "\n",
       "      10       11        12    13          14  \n",
       "0      -5.0     20.0     2.0      -8.0    2.0  \n",
       "1      -5.0      1.0     8.0      -2.0    0.0  \n",
       "2       7.0     -1.0     1.0       1.0   -5.0  \n",
       "3       0.0     -3.0     3.0       2.0   -3.0  \n",
       "4       1.0      1.0    -2.0      -1.0    0.0  \n",
       "5       0.0     -2.0     2.0       2.0   -2.0  \n",
       "6       1.0     -2.0     3.0       3.0   -3.0  \n",
       "7      43.0      5.0    -1.0      -2.0    1.0  \n",
       "8      -2.0      4.0    -2.0      -2.0    2.0  \n",
       "9       0.0    -26.0    13.0       6.0   -1.0  \n",
       "10      0.0      0.0    99.0      -3.0    1.0  \n",
       "11      0.0      0.0     0.0       0.0    0.0  \n",
       "12      0.0      0.0     0.0       0.0  -36.0  \n",
       "13      0.0      0.0     0.0       0.0    0.0  "
      ]
     },
     "execution_count": 15,
     "metadata": {},
     "output_type": "execute_result"
    }
   ],
   "source": [
    "t"
   ]
  },
  {
   "cell_type": "code",
   "execution_count": 16,
   "metadata": {},
   "outputs": [
    {
     "name": "stdout",
     "output_type": "stream",
     "text": [
      "14716.333333333334 15136.833333333334 15557.333333333334\n"
     ]
    }
   ],
   "source": [
    "vc = (vb[0]+vb[13])/2 # setting the cav freq to mean of LHII freq range\n",
    "print(vb[0], vc, vb[13])\n",
    "nphoton = 2 # number of photons\n",
    "n = nphoton+1 # dimension of hilbert space for sub-systems\n",
    "all_ops = enr_destroy([n,n,n,n,n,n,n,n,n,n,n,n,n,n,n],excitations=nphoton)\n",
    "a = all_ops[0]\n",
    "\n",
    "g = 30 # cavity-site coupling freq in 1/cm\n",
    "u = 50 # anharmonicity freq in 1/cm"
   ]
  },
  {
   "cell_type": "code",
   "execution_count": 17,
   "metadata": {},
   "outputs": [
    {
     "name": "stdout",
     "output_type": "stream",
     "text": [
      "Quantum object: dims = [[3, 3, 3, 3, 3, 3, 3, 3, 3, 3, 3, 3, 3, 3, 3], [3, 3, 3, 3, 3, 3, 3, 3, 3, 3, 3, 3, 3, 3, 3]], shape = (136, 136), type = oper, isherm = True\n",
      "Qobj data =\n",
      "[[0.         0.         0.         ... 0.         0.         0.        ]\n",
      " [0.         0.         0.         ... 0.         0.         0.        ]\n",
      " [0.         0.         0.         ... 0.         0.         0.        ]\n",
      " ...\n",
      " [0.         0.         0.         ... 1.87672815 0.         0.        ]\n",
      " [0.         0.         0.         ... 0.         1.87672815 0.        ]\n",
      " [0.         0.         0.         ... 0.         0.         3.75345629]]\n",
      "adding site operators for  b1\n",
      "adding site operators for  b2\n",
      "adding site operators for  b3\n",
      "adding site operators for  b4\n",
      "adding site operators for  b5\n",
      "adding site operators for  b6\n",
      "adding site operators for  b7\n",
      "adding site operators for  b8\n",
      "adding site operators for  b9\n",
      "adding site operators for  b10\n",
      "adding site operators for  b11\n",
      "adding site operators for  b12\n",
      "adding site operators for  b13\n",
      "adding site operators for  b14\n",
      "shape of hamiltonian is (136, 136)\n"
     ]
    }
   ],
   "source": [
    "H = h*vc*a.dag()*a   # cavity only\n",
    "print(H)\n",
    "# Now adding sites, cavity-site\n",
    "for m in range(14):\n",
    "    name='b'+str(m+1)\n",
    "    print('adding site operators for ', name)\n",
    "    b_op = all_ops[m+1]\n",
    "    H = H + h*vb[m]*b_op.dag()*b_op + h*g*(a.dag()*b_op+a*b_op.dag())+h*u*(b_op.dag()*b_op.dag()*b_op*b_op)\n",
    "\n",
    "    \n",
    "# adding hopping between sites\n",
    "for m in range(13):\n",
    "    name1='b'+str(m+1)\n",
    "    #print('first',name)\n",
    "    b_op1 = all_ops[m+1]\n",
    "    for k in range(m+1,14):\n",
    "        name2 = 'b'+str(k+1)\n",
    "        #print('second',name2)\n",
    "        b_op2 = all_ops[k+1]\n",
    "        #print('adding hopping between sites: ', name1, name2, ' hopping freq t= ', t.iat[m,k])\n",
    "        H = H+ h*t.iat[m,k]*(b_op1.dag()*b_op2+b_op2.dag()*b_op1)\n",
    "print('shape of hamiltonian is', H.shape)"
   ]
  },
  {
   "cell_type": "code",
   "execution_count": 18,
   "metadata": {},
   "outputs": [],
   "source": [
    "[energies,states] = H.eigenstates()\n",
    "H = H.transform(states) # H is in polariton basis now\n",
    "op_list = []\n",
    "for k in range(15):\n",
    "    op = all_ops[k]\n",
    "    op = op.transform(states) # each operator is in polariton basis now\n",
    "    op_list.append(op.dag()*op)\n",
    "psi = enr_fock([n,n,n,n,n,n,n,n,n,n,n,n,n,n,n], 2, [1,0,0,0,0,0,0,0,0,0,0,0,0,0,0])\n",
    "psi_dm = psi*psi.dag()\n",
    "psi_dm = psi_dm.transform(states) #density matrix is in polariton basis now\n",
    "gamma = 0.1\n",
    "c_ops = [gamma*a.transform(states)] # collaps operator is in polariton basis now. "
   ]
  },
  {
   "cell_type": "code",
   "execution_count": 19,
   "metadata": {},
   "outputs": [
    {
     "data": {
      "text/latex": [
       "Quantum object: dims = [[3, 3, 3, 3, 3, 3, 3, 3, 3, 3, 3, 3, 3, 3, 3], [3, 3, 3, 3, 3, 3, 3, 3, 3, 3, 3, 3, 3, 3, 3]], shape = (136, 136), type = oper, isherm = False\\begin{equation*}\\left(\\begin{array}{*{11}c}0.0 & 0.0 & 0.0 & 0.0 & 0.0 & \\cdots & 0.0 & 0.0 & 0.0 & 0.0 & 0.0\\\\0.0 & 1.822 & 0.0 & 0.0 & 0.0 & \\cdots & 0.0 & 0.0 & 0.0 & 0.0 & 0.0\\\\0.0 & 0.0 & 1.834 & 0.0 & 0.0 & \\cdots & 0.0 & 0.0 & 0.0 & 0.0 & 0.0\\\\0.0 & 0.0 & 0.0 & 1.837 & 1.560\\times10^{-12} & \\cdots & 0.0 & 0.0 & 0.0 & 0.0 & 0.0\\\\0.0 & 0.0 & 0.0 & 1.560\\times10^{-12} & 1.838 & \\cdots & 0.0 & 0.0 & 0.0 & 0.0 & 0.0\\\\\\vdots & \\vdots & \\vdots & \\vdots & \\vdots & \\ddots & \\vdots & \\vdots & \\vdots & \\vdots & \\vdots\\\\0.0 & 0.0 & 0.0 & 0.0 & 0.0 & \\cdots & 3.845 & -0.006 & 0.016 & -0.001 & 0.017\\\\0.0 & 0.0 & 0.0 & 0.0 & 0.0 & \\cdots & -0.006 & 3.850 & 0.018 & 0.003 & -0.003\\\\0.0 & 0.0 & 0.0 & 0.0 & 0.0 & \\cdots & 0.016 & 0.018 & 3.852 & -0.034 & 0.026\\\\0.0 & 0.0 & 0.0 & 0.0 & 0.0 & \\cdots & -0.001 & 0.003 & -0.034 & 3.859 & -0.015\\\\0.0 & 0.0 & 0.0 & 0.0 & 0.0 & \\cdots & 0.017 & -0.003 & 0.026 & -0.015 & 3.872\\\\\\end{array}\\right)\\end{equation*}"
      ],
      "text/plain": [
       "Quantum object: dims = [[3, 3, 3, 3, 3, 3, 3, 3, 3, 3, 3, 3, 3, 3, 3], [3, 3, 3, 3, 3, 3, 3, 3, 3, 3, 3, 3, 3, 3, 3]], shape = (136, 136), type = oper, isherm = False\n",
       "Qobj data =\n",
       "[[ 0.          0.          0.         ...  0.          0.\n",
       "   0.        ]\n",
       " [ 0.          1.82231449  0.         ...  0.          0.\n",
       "   0.        ]\n",
       " [ 0.          0.          1.8335536  ...  0.          0.\n",
       "   0.        ]\n",
       " ...\n",
       " [ 0.          0.          0.         ...  3.85231107 -0.03392653\n",
       "   0.02596292]\n",
       " [ 0.          0.          0.         ... -0.03387088  3.8586399\n",
       "  -0.01510083]\n",
       " [ 0.          0.          0.         ...  0.02582959 -0.01504796\n",
       "   3.87219602]]"
      ]
     },
     "execution_count": 19,
     "metadata": {},
     "output_type": "execute_result"
    }
   ],
   "source": [
    "H"
   ]
  },
  {
   "cell_type": "code",
   "execution_count": 35,
   "metadata": {},
   "outputs": [
    {
     "data": {
      "image/png": "[encoded data removed]",
      "text/plain": [
       "<Figure size 720x720 with 2 Axes>"
      ]
     },
     "metadata": {
      "needs_background": "light"
     },
     "output_type": "display_data"
    }
   ],
   "source": [
    "import matplotlib.animation as animation\n",
    "\n",
    "import matplotlib.colors as mcolors\n",
    "\n",
    "\n",
    "fig, ax = plt.subplots(figsize=(10, 10))\n",
    "\n",
    "im = plt.imshow(np.real(H),cmap='afmhot')\n",
    "plt.colorbar(shrink=0.5)\n",
    "plt.show()"
   ]
  },
  {
   "cell_type": "code",
   "execution_count": 40,
   "metadata": {},
   "outputs": [
    {
     "data": {
      "image/png": "[encoded data removed]",
      "text/plain": [
       "<Figure size 720x720 with 2 Axes>"
      ]
     },
     "metadata": {
      "needs_background": "light"
     },
     "output_type": "display_data"
    }
   ],
   "source": [
    "oo = all_ops[1]\n",
    "fig, ax = plt.subplots(figsize=(10, 10))\n",
    "\n",
    "im = plt.imshow(np.imag(all_ops[0].dag()*oo),cmap='afmhot')\n",
    "plt.colorbar(shrink=0.5)\n",
    "plt.show()"
   ]
  },
  {
   "cell_type": "code",
   "execution_count": 22,
   "metadata": {},
   "outputs": [
    {
     "data": {
      "image/png": "[encoded data removed]",
      "text/plain": [
       "<Figure size 720x720 with 2 Axes>"
      ]
     },
     "metadata": {
      "needs_background": "light"
     },
     "output_type": "display_data"
    }
   ],
   "source": [
    "\n",
    "fig, ax = plt.subplots(figsize=(10, 10))\n",
    "\n",
    "im = plt.imshow(np.abs(psi*psi.dag()),cmap='afmhot')\n",
    "plt.colorbar(shrink=0.5)\n",
    "plt.show()"
   ]
  },
  {
   "cell_type": "code",
   "execution_count": 23,
   "metadata": {},
   "outputs": [
    {
     "data": {
      "image/png": "[encoded data removed]",
      "text/plain": [
       "<Figure size 720x720 with 2 Axes>"
      ]
     },
     "metadata": {
      "needs_background": "light"
     },
     "output_type": "display_data"
    }
   ],
   "source": [
    "\n",
    "fig, ax = plt.subplots(figsize=(10, 10))\n",
    "\n",
    "im = plt.imshow(np.abs(psi_dm),cmap='afmhot')\n",
    "plt.colorbar(shrink=0.5)\n",
    "plt.show()"
   ]
  },
  {
   "cell_type": "code",
   "execution_count": 24,
   "metadata": {},
   "outputs": [],
   "source": [
    "tlist = np.linspace(0,4000,4000)\n",
    "options = Options(store_states = True)\n",
    "results = mesolve(H, psi_dm, tlist, c_ops, op_list,{},options)"
   ]
  },
  {
   "cell_type": "code",
   "execution_count": 41,
   "metadata": {
    "scrolled": true
   },
   "outputs": [
    {
     "data": {
      "image/png": "[encoded data removed]",
      "text/plain": [
       "<Figure size 1584x1584 with 2 Axes>"
      ]
     },
     "metadata": {
      "needs_background": "light"
     },
     "output_type": "display_data"
    }
   ],
   "source": [
    "import matplotlib.animation as animation\n",
    "\n",
    "import matplotlib.colors as mcolors\n",
    "\n",
    "\n",
    "colors1 = plt.cm.hot(np.linspace(0, 1, 128))\n",
    "colors2 = plt.cm.summer_r(np.linspace(0, 1, 128))\n",
    "\n",
    "# combine them and build a new colormap\n",
    "colors = np.vstack((colors1, colors2))\n",
    "mymap = mcolors.LinearSegmentedColormap.from_list('my_colormap', colors)\n",
    "\n",
    "############\n",
    "fig, ax = plt.subplots(figsize=(22, 22))\n",
    "\n",
    "frame = 0\n",
    "im = plt.imshow(np.abs(results.states[frame]), origin='lower',cmap=mymap)\n",
    "plt.colorbar(shrink=0.5)\n",
    "\n",
    "\n",
    "def update(*args):\n",
    "    global frame\n",
    "\n",
    "    im.set_array(np.abs(results.states[frame]))\n",
    "    plt.title(str(frame)+'fs')\n",
    "\n",
    "    frame += 1\n",
    "    frame %= len(tlist)\n",
    "\n",
    "    return im,\n",
    "\n",
    "ani = animation.FuncAnimation(fig, update, len(tlist))\n",
    "ani.save('1 photon nonleaky cavity will everything in polariton basis.mp4', fps = 200)"
   ]
  },
  {
   "cell_type": "code",
   "execution_count": null,
   "metadata": {},
   "outputs": [],
   "source": [
    "[energies,states] = H.eigenstates()\n",
    "polaritons = []\n",
    "for x in range(len(tlist)):\n",
    "    state = results.states[x]\n",
    "    polaritons.append(state.transform(states))"
   ]
  },
  {
   "cell_type": "code",
   "execution_count": null,
   "metadata": {},
   "outputs": [],
   "source": [
    "import matplotlib.animation as animation\n",
    "\n",
    "import matplotlib.colors as mcolors\n",
    "\n",
    "\n",
    "colors1 = plt.cm.hot(np.linspace(0, 1, 128))\n",
    "colors2 = plt.cm.summer_r(np.linspace(0, 1, 128))\n",
    "\n",
    "# combine them and build a new colormap\n",
    "colors = np.vstack((colors1, colors2))\n",
    "mymap = mcolors.LinearSegmentedColormap.from_list('my_colormap', colors)\n",
    "\n",
    "############\n",
    "fig, ax = plt.subplots(figsize=(22, 22))\n",
    "\n",
    "frame = 0\n",
    "im = plt.imshow(np.abs(polaritons[frame]), origin='lower',cmap=mymap)\n",
    "plt.colorbar(shrink=0.5)\n",
    "\n",
    "\n",
    "def update(*args):\n",
    "    global frame\n",
    "\n",
    "    im.set_array(np.abs(polaritons[frame]))\n",
    "    plt.title(str(frame)+'fs')\n",
    "\n",
    "    frame += 1\n",
    "    frame %= len(tlist)\n",
    "\n",
    "    return im,\n",
    "\n",
    "ani = animation.FuncAnimation(fig, update, len(tlist))\n",
    "ani.save('cavity dynamics in polariton basis for non-coupling leaky cavity.mp4', fps = 200)"
   ]
  },
  {
   "cell_type": "code",
   "execution_count": null,
   "metadata": {},
   "outputs": [],
   "source": [
    "import matplotlib.animation as animation\n",
    "\n",
    "import matplotlib.colors as mcolors\n",
    "\n",
    "\n",
    "colors1 = plt.cm.hot(np.linspace(0, 1, 128))\n",
    "colors2 = plt.cm.summer_r(np.linspace(0, 1, 128))\n",
    "\n",
    "# combine them and build a new colormap\n",
    "colors = np.vstack((colors1, colors2))\n",
    "mymap = mcolors.LinearSegmentedColormap.from_list('my_colormap', colors)\n",
    "\n",
    "############\n",
    "fig, ax = plt.subplots(figsize=(22, 22))\n",
    "\n",
    "frame = 0\n",
    "im = plt.imshow(np.abs(results.states[frame]), origin='lower',cmap=mymap)\n",
    "plt.colorbar(shrink=0.5)\n",
    "\n",
    "\n",
    "def update(*args):\n",
    "    global frame\n",
    "\n",
    "    im.set_array(np.abs(results.states[frame]))\n",
    "    plt.title(str(frame)+'fs')\n",
    "\n",
    "    frame += 1\n",
    "    frame %= len(tlist)\n",
    "\n",
    "    return im,\n",
    "\n",
    "ani = animation.FuncAnimation(fig, update, len(tlist))\n",
    "ani.save('long time cavity dynamics in occupation number basis for non-leaky.mp4', fps = 200)\n"
   ]
  },
  {
   "cell_type": "code",
   "execution_count": null,
   "metadata": {},
   "outputs": [],
   "source": [
    "fig, ax = plt.subplots(figsize=(10, 10))\n",
    "\n",
    "frame = 1000\n",
    "im = plt.imshow(np.abs(results.states[frame]), origin='lower',cmap='afmhot')\n",
    "plt.colorbar(shrink=0.5)\n",
    "plt.show()"
   ]
  },
  {
   "cell_type": "code",
   "execution_count": null,
   "metadata": {},
   "outputs": [],
   "source": [
    "fig, ax = plt.subplots(figsize=(10, 10))\n",
    "\n",
    "frame = 1200\n",
    "im = plt.imshow(np.abs(results.states[frame]), origin='lower',cmap='afmhot')\n",
    "plt.colorbar(shrink=0.5)\n",
    "plt.show()"
   ]
  },
  {
   "cell_type": "code",
   "execution_count": null,
   "metadata": {},
   "outputs": [],
   "source": [
    "plt.figure\n",
    "plt.plot(tlist, results.expect[0])\n",
    "plt.xlabel('time (fs)')\n",
    "plt.ylabel('Average Number of Photons')\n",
    "plt.legend(['Cavity'])\n",
    "plt.title('Full LHII in Cavity')"
   ]
  },
  {
   "cell_type": "code",
   "execution_count": null,
   "metadata": {},
   "outputs": [],
   "source": [
    "results."
   ]
  },
  {
   "cell_type": "code",
   "execution_count": null,
   "metadata": {},
   "outputs": [],
   "source": [
    "[energies, states] = H.eigenstates()\n",
    "H.transform(states)"
   ]
  },
  {
   "cell_type": "code",
   "execution_count": null,
   "metadata": {},
   "outputs": [],
   "source": [
    "#besides tensor product we can also use 'composite()'"
   ]
  },
  {
   "cell_type": "code",
   "execution_count": 43,
   "metadata": {},
   "outputs": [
    {
     "ename": "TypeError",
     "evalue": "Incompatible Qobj shapes",
     "output_type": "error",
     "traceback": [
      "\u001b[0;31m---------------------------------------------------------------------------\u001b[0m",
      "\u001b[0;31mTypeError\u001b[0m                                 Traceback (most recent call last)",
      "\u001b[0;32m<ipython-input-43-7ddcd76ab1bd>\u001b[0m in \u001b[0;36m<module>\u001b[0;34m\u001b[0m\n\u001b[1;32m      1\u001b[0m \u001b[0mnphoton_pop\u001b[0m \u001b[0;34m=\u001b[0m \u001b[0mresults\u001b[0m\u001b[0;34m.\u001b[0m\u001b[0mexpect\u001b[0m\u001b[0;34m[\u001b[0m\u001b[0;36m0\u001b[0m\u001b[0;34m]\u001b[0m\u001b[0;34m\u001b[0m\u001b[0;34m\u001b[0m\u001b[0m\n\u001b[0;32m----> 2\u001b[0;31m \u001b[0mG1\u001b[0m \u001b[0;34m=\u001b[0m \u001b[0mcorrelation_2op_2t\u001b[0m\u001b[0;34m(\u001b[0m\u001b[0mH\u001b[0m\u001b[0;34m,\u001b[0m \u001b[0mpsi\u001b[0m\u001b[0;34m*\u001b[0m\u001b[0mpsi\u001b[0m\u001b[0;34m.\u001b[0m\u001b[0mdag\u001b[0m\u001b[0;34m(\u001b[0m\u001b[0;34m)\u001b[0m\u001b[0;34m,\u001b[0m \u001b[0;32mNone\u001b[0m\u001b[0;34m,\u001b[0m \u001b[0mtlist\u001b[0m\u001b[0;34m,\u001b[0m \u001b[0mc_ops\u001b[0m\u001b[0;34m,\u001b[0m \u001b[0ma\u001b[0m\u001b[0;34m.\u001b[0m\u001b[0mdag\u001b[0m\u001b[0;34m(\u001b[0m\u001b[0;34m)\u001b[0m\u001b[0;34m,\u001b[0m \u001b[0ma\u001b[0m\u001b[0;34m)\u001b[0m\u001b[0;34m\u001b[0m\u001b[0;34m\u001b[0m\u001b[0m\n\u001b[0m\u001b[1;32m      3\u001b[0m \u001b[0mg1\u001b[0m \u001b[0;34m=\u001b[0m \u001b[0mG1\u001b[0m \u001b[0;34m/\u001b[0m \u001b[0mnp\u001b[0m\u001b[0;34m.\u001b[0m\u001b[0msqrt\u001b[0m\u001b[0;34m(\u001b[0m\u001b[0mnphoton_pop\u001b[0m\u001b[0;34m[\u001b[0m\u001b[0;36m0\u001b[0m\u001b[0;34m]\u001b[0m \u001b[0;34m*\u001b[0m \u001b[0mnphoton_pop\u001b[0m\u001b[0;34m)\u001b[0m\u001b[0;34m\u001b[0m\u001b[0;34m\u001b[0m\u001b[0m\n",
      "\u001b[0;32m~/anaconda3/lib/python3.7/site-packages/qutip/correlation.py\u001b[0m in \u001b[0;36mcorrelation_2op_2t\u001b[0;34m(H, state0, tlist, taulist, c_ops, a_op, b_op, solver, reverse, args, options)\u001b[0m\n\u001b[1;32m    207\u001b[0m         return correlation_2op_1t(H, state0, taulist, c_ops, a_op, b_op,\n\u001b[1;32m    208\u001b[0m                                   \u001b[0msolver\u001b[0m\u001b[0;34m=\u001b[0m\u001b[0msolver\u001b[0m\u001b[0;34m,\u001b[0m \u001b[0mreverse\u001b[0m\u001b[0;34m=\u001b[0m\u001b[0mreverse\u001b[0m\u001b[0;34m,\u001b[0m \u001b[0margs\u001b[0m\u001b[0;34m=\u001b[0m\u001b[0margs\u001b[0m\u001b[0;34m,\u001b[0m\u001b[0;34m\u001b[0m\u001b[0;34m\u001b[0m\u001b[0m\n\u001b[0;32m--> 209\u001b[0;31m                                   options=options)\n\u001b[0m\u001b[1;32m    210\u001b[0m     \u001b[0;32melse\u001b[0m\u001b[0;34m:\u001b[0m\u001b[0;34m\u001b[0m\u001b[0;34m\u001b[0m\u001b[0m\n\u001b[1;32m    211\u001b[0m         \u001b[0;32mif\u001b[0m \u001b[0mreverse\u001b[0m\u001b[0;34m:\u001b[0m\u001b[0;34m\u001b[0m\u001b[0;34m\u001b[0m\u001b[0m\n",
      "\u001b[0;32m~/anaconda3/lib/python3.7/site-packages/qutip/correlation.py\u001b[0m in \u001b[0;36mcorrelation_2op_1t\u001b[0;34m(H, state0, taulist, c_ops, a_op, b_op, solver, reverse, args, options)\u001b[0m\n\u001b[1;32m    138\u001b[0m \u001b[0;34m\u001b[0m\u001b[0m\n\u001b[1;32m    139\u001b[0m     return _correlation_2t(H, state0, [0], taulist, c_ops, A_op, B_op, C_op,\n\u001b[0;32m--> 140\u001b[0;31m                            solver=solver, args=args, options=options)[0]\n\u001b[0m\u001b[1;32m    141\u001b[0m \u001b[0;34m\u001b[0m\u001b[0m\n\u001b[1;32m    142\u001b[0m \u001b[0;34m\u001b[0m\u001b[0m\n",
      "\u001b[0;32m~/anaconda3/lib/python3.7/site-packages/qutip/correlation.py\u001b[0m in \u001b[0;36m_correlation_2t\u001b[0;34m(H, state0, tlist, taulist, c_ops, a_op, b_op, c_op, solver, args, options)\u001b[0m\n\u001b[1;32m   1062\u001b[0m         return _correlation_me_2t(H, state0, tlist, taulist,\n\u001b[1;32m   1063\u001b[0m                                   \u001b[0mc_ops\u001b[0m\u001b[0;34m,\u001b[0m \u001b[0ma_op\u001b[0m\u001b[0;34m,\u001b[0m \u001b[0mb_op\u001b[0m\u001b[0;34m,\u001b[0m \u001b[0mc_op\u001b[0m\u001b[0;34m,\u001b[0m\u001b[0;34m\u001b[0m\u001b[0;34m\u001b[0m\u001b[0m\n\u001b[0;32m-> 1064\u001b[0;31m                                   args=args, options=options)\n\u001b[0m\u001b[1;32m   1065\u001b[0m     \u001b[0;32melif\u001b[0m \u001b[0msolver\u001b[0m \u001b[0;34m==\u001b[0m \u001b[0;34m\"mc\"\u001b[0m\u001b[0;34m:\u001b[0m\u001b[0;34m\u001b[0m\u001b[0;34m\u001b[0m\u001b[0m\n\u001b[1;32m   1066\u001b[0m         return _correlation_mc_2t(H, state0, tlist, taulist,\n",
      "\u001b[0;32m~/anaconda3/lib/python3.7/site-packages/qutip/correlation.py\u001b[0m in \u001b[0;36m_correlation_me_2t\u001b[0;34m(H, state0, tlist, taulist, c_ops, a_op, b_op, c_op, args, options)\u001b[0m\n\u001b[1;32m   1112\u001b[0m \u001b[0;34m\u001b[0m\u001b[0m\n\u001b[1;32m   1113\u001b[0m         corr_mat[t_idx, :] = mesolve(\n\u001b[0;32m-> 1114\u001b[0;31m             \u001b[0mH_shifted\u001b[0m\u001b[0;34m,\u001b[0m \u001b[0mc_op\u001b[0m \u001b[0;34m*\u001b[0m \u001b[0mrho\u001b[0m \u001b[0;34m*\u001b[0m \u001b[0ma_op\u001b[0m\u001b[0;34m,\u001b[0m \u001b[0mtaulist\u001b[0m\u001b[0;34m,\u001b[0m \u001b[0mc_ops_shifted\u001b[0m\u001b[0;34m,\u001b[0m\u001b[0;34m\u001b[0m\u001b[0;34m\u001b[0m\u001b[0m\n\u001b[0m\u001b[1;32m   1115\u001b[0m             \u001b[0;34m[\u001b[0m\u001b[0mb_op\u001b[0m\u001b[0;34m]\u001b[0m\u001b[0;34m,\u001b[0m \u001b[0margs\u001b[0m\u001b[0;34m=\u001b[0m\u001b[0m_args\u001b[0m\u001b[0;34m,\u001b[0m \u001b[0moptions\u001b[0m\u001b[0;34m=\u001b[0m\u001b[0moptions\u001b[0m\u001b[0;34m\u001b[0m\u001b[0;34m\u001b[0m\u001b[0m\n\u001b[1;32m   1116\u001b[0m         ).expect[0]\n",
      "\u001b[0;32m~/anaconda3/lib/python3.7/site-packages/qutip/qobj.py\u001b[0m in \u001b[0;36m__mul__\u001b[0;34m(self, other)\u001b[0m\n\u001b[1;32m    553\u001b[0m \u001b[0;34m\u001b[0m\u001b[0m\n\u001b[1;32m    554\u001b[0m             \u001b[0;32melse\u001b[0m\u001b[0;34m:\u001b[0m\u001b[0;34m\u001b[0m\u001b[0;34m\u001b[0m\u001b[0m\n\u001b[0;32m--> 555\u001b[0;31m                 \u001b[0;32mraise\u001b[0m \u001b[0mTypeError\u001b[0m\u001b[0;34m(\u001b[0m\u001b[0;34m\"Incompatible Qobj shapes\"\u001b[0m\u001b[0;34m)\u001b[0m\u001b[0;34m\u001b[0m\u001b[0;34m\u001b[0m\u001b[0m\n\u001b[0m\u001b[1;32m    556\u001b[0m \u001b[0;34m\u001b[0m\u001b[0m\n\u001b[1;32m    557\u001b[0m         \u001b[0;32melif\u001b[0m \u001b[0misinstance\u001b[0m\u001b[0;34m(\u001b[0m\u001b[0mother\u001b[0m\u001b[0;34m,\u001b[0m \u001b[0mnp\u001b[0m\u001b[0;34m.\u001b[0m\u001b[0mndarray\u001b[0m\u001b[0;34m)\u001b[0m\u001b[0;34m:\u001b[0m\u001b[0;34m\u001b[0m\u001b[0;34m\u001b[0m\u001b[0m\n",
      "\u001b[0;31mTypeError\u001b[0m: Incompatible Qobj shapes"
     ]
    }
   ],
   "source": [
    "nphoton_pop = results.expect[0]\n",
    "G1 = correlation_2op_2t(H, psi*psi.dag(), None, tlist, c_ops, a.dag(), a)\n",
    "g1 = G1 / np.sqrt(nphoton_pop[0] * nphoton_pop)"
   ]
  },
  {
   "cell_type": "code",
   "execution_count": null,
   "metadata": {},
   "outputs": [],
   "source": [
    "plt.figure\n",
    "plt.plot(tlist, np.real(g1),tlist, np.real(G1))\n",
    "plt.xlabel('time (fs)')\n",
    "plt.ylabel('g1')\n",
    "plt.legend(['g1', 'G1'])\n",
    "plt.title('First order optical coherence')"
   ]
  },
  {
   "cell_type": "code",
   "execution_count": null,
   "metadata": {},
   "outputs": [],
   "source": [
    "[w,s] = spectrum_correlation_fft(tlist, g1)"
   ]
  },
  {
   "cell_type": "code",
   "execution_count": null,
   "metadata": {},
   "outputs": [],
   "source": [
    "plt.figure\n",
    "plt.plot(w,np.real(s))\n",
    "plt.xlabel('angular freq (1/fs)')\n",
    "plt.ylabel('Power')\n",
    "plt.legend(['power', 'G1'])\n",
    "plt.title('Power spectrum from g1')"
   ]
  },
  {
   "cell_type": "code",
   "execution_count": null,
   "metadata": {},
   "outputs": [],
   "source": [
    "(2*np.pi)*0.453"
   ]
  },
  {
   "cell_type": "code",
   "execution_count": null,
   "metadata": {},
   "outputs": [],
   "source": [
    "1875.5/(2*np.pi)"
   ]
  },
  {
   "cell_type": "code",
   "execution_count": null,
   "metadata": {},
   "outputs": [],
   "source": [
    "G2 = correlation_4op_1t(H, psi, tlist, c_ops, a.dag(),a.dag(),a,a)\n",
    "g2 = G2 / (nphoton_pop[0] * nphoton_pop)"
   ]
  },
  {
   "cell_type": "code",
   "execution_count": null,
   "metadata": {},
   "outputs": [],
   "source": [
    "plt.figure\n",
    "plt.plot(tlist, np.real(g2),tlist, np.real(G2))\n",
    "plt.xlabel('time (fs)')\n",
    "plt.ylabel('Amplitude')\n",
    "plt.legend(['g2', 'G2'])\n",
    "plt.title('Second order optical coherence')\n",
    "#plt.savefig('g2 and G2 for empty cavity.png')"
   ]
  },
  {
   "cell_type": "code",
   "execution_count": null,
   "metadata": {},
   "outputs": [],
   "source": []
  },
  {
   "cell_type": "code",
   "execution_count": 33,
   "metadata": {},
   "outputs": [
    {
     "data": {
      "text/plain": [
       "(960, 960)"
      ]
     },
     "execution_count": 33,
     "metadata": {},
     "output_type": "execute_result"
    }
   ],
   "source": [
    "a = destroy(8)\n",
    "a =  tensor(destroy(8),enr_identity([n,n,n,n,n,n,n,n,n,n,n,n,n,n],2))\n",
    "a.shape"
   ]
  },
  {
   "cell_type": "code",
   "execution_count": null,
   "metadata": {},
   "outputs": [],
   "source": [
    "# Now testing second approach with coherent light\n",
    "all_b_ops = enr_destroy([n,n,n,n,n,n,n,n,n,n,n,n,n,n],excitations=nphoton)\n",
    "\n",
    "all_ops2 = [a]\n",
    "for b in all_b_ops:\n",
    "    all_ops2.append(tensor(qeye(8),b))\n",
    "all_ops2[0].shape"
   ]
  },
  {
   "cell_type": "code",
   "execution_count": null,
   "metadata": {},
   "outputs": [],
   "source": [
    "psi =  tensor(coherent(8,np.sqrt(2)),enr_fock([n,n,n,n,n,n,n,n,n,n,n,n,n,n], 2, [0,0,0,0,0,0,0,0,0,0,0,0,0,0]))\n",
    "psi"
   ]
  },
  {
   "cell_type": "code",
   "execution_count": null,
   "metadata": {},
   "outputs": [],
   "source": [
    "a*psi"
   ]
  },
  {
   "cell_type": "code",
   "execution_count": null,
   "metadata": {},
   "outputs": [],
   "source": [
    "all_ops2[1]*psi"
   ]
  },
  {
   "cell_type": "code",
   "execution_count": null,
   "metadata": {},
   "outputs": [],
   "source": [
    "g = 30 # cavity-site coupling freq in 1/cm\n",
    "u = 50 # anharmonicity freq in 1/cm\n",
    "H = h*vc*a.dag()*a   # cavity only\n",
    "\n",
    "# Now adding sites, cavity-site\n",
    "for m in range(14):\n",
    "    name='b'+str(m+1)\n",
    "    print('adding site operators for ', name)\n",
    "    b_op = all_ops2[m+1]\n",
    "    H = H + h*vb[m]*b_op.dag()*b_op + h*g*(a.dag()*b_op+a*b_op.dag())+h*u*(b_op.dag()*b_op.dag()*b_op*b_op)\n",
    "\n",
    "    \n",
    "# adding hopping between sites\n",
    "for m in range(13):\n",
    "    name1='b'+str(m+1)\n",
    "    #print('first',name)\n",
    "    b_op1 = all_ops2[m+1]\n",
    "    for k in range(m+1,14):\n",
    "        name2 = 'b'+str(k+1)\n",
    "        #print('second',name2)\n",
    "        b_op2 = all_ops2[k+1]\n",
    "        #print('adding hopping between sites: ', name1, name2, ' hopping freq t= ', t.iat[m,k])\n",
    "        H = H+ h*t.iat[m,k]*(b_op1.dag()*b_op2+b_op2.dag()*b_op1)\n",
    "print('shape of hamiltonian is', H.shape)"
   ]
  },
  {
   "cell_type": "code",
   "execution_count": null,
   "metadata": {},
   "outputs": [],
   "source": [
    "psi =  tensor(coherent(8,np.sqrt(2)),enr_fock([n,n,n,n,n,n,n,n,n,n,n,n,n,n], 2, [0,0,0,0,0,0,0,0,0,0,0,0,0,0]))\n",
    "gamma = 0.0 #leakage rate\n",
    "c_ops = [gamma*a]\n",
    "op_list = [a.dag()*a]\n",
    "for k in range(14):\n",
    "    op = all_ops2[k+1]\n",
    "    op_list.append(op.dag()*op)\n",
    "\n",
    "tlist = np.linspace(0,4000,4000)\n",
    "options = Options(store_states = True)\n",
    "options.ntraj=100\n",
    "results = mcsolve(H, psi, tlist, c_ops, op_list,options=options)\n",
    "#options = Options(store_states = True)\n",
    "#results = mesolve(H, psi*psi.dag(), tlist, c_ops, op_list,{},options)"
   ]
  },
  {
   "cell_type": "code",
   "execution_count": null,
   "metadata": {},
   "outputs": [],
   "source": [
    "results.states"
   ]
  },
  {
   "cell_type": "code",
   "execution_count": null,
   "metadata": {},
   "outputs": [],
   "source": [
    "[energies,states] = H.eigenstates()\n",
    "polaritons = []\n",
    "for x in range(len(tlist)):\n",
    "    state = results.states[x]\n",
    "    polaritons.append(state.transform(states))"
   ]
  },
  {
   "cell_type": "code",
   "execution_count": 34,
   "metadata": {},
   "outputs": [
    {
     "data": {
      "image/png": "[encoded data removed]",
      "text/plain": [
       "<Figure size 1584x1584 with 2 Axes>"
      ]
     },
     "metadata": {
      "needs_background": "light"
     },
     "output_type": "display_data"
    }
   ],
   "source": [
    "import matplotlib.animation as animation\n",
    "\n",
    "import matplotlib.colors as mcolors\n",
    "\n",
    "\n",
    "colors1 = plt.cm.hot(np.linspace(0, 1, 128))\n",
    "colors2 = plt.cm.summer_r(np.linspace(0, 1, 128))\n",
    "\n",
    "# combine them and build a new colormap\n",
    "colors = np.vstack((colors1, colors2))\n",
    "mymap = mcolors.LinearSegmentedColormap.from_list('my_colormap', colors)\n",
    "\n",
    "############\n",
    "fig, ax = plt.subplots(figsize=(22, 22))\n",
    "\n",
    "frame = 0\n",
    "im = plt.imshow(np.abs(polaritons[frame]), origin='lower',cmap=mymap)\n",
    "plt.colorbar(shrink=0.5)\n",
    "\n",
    "\n",
    "def update(*args):\n",
    "    global frame\n",
    "\n",
    "    im.set_array(np.abs(polaritons[frame]))\n",
    "    plt.title(str(frame)+'fs')\n",
    "\n",
    "    frame += 1\n",
    "    frame %= len(tlist)\n",
    "\n",
    "    return im,\n",
    "\n",
    "ani = animation.FuncAnimation(fig, update, len(tlist))\n",
    "ani.save('Coherent light cavity dynamics in polariton basis.mp4', fps = 200)"
   ]
  },
  {
   "cell_type": "code",
   "execution_count": null,
   "metadata": {},
   "outputs": [],
   "source": []
  },
  {
   "cell_type": "code",
   "execution_count": null,
   "metadata": {},
   "outputs": [],
   "source": []
  }
 ],
 "metadata": {
  "kernelspec": {
   "display_name": "Python 3",
   "language": "python",
   "name": "python3"
  },
  "language_info": {
   "codemirror_mode": {
    "name": "ipython",
    "version": 3
   },
   "file_extension": ".py",
   "mimetype": "text/x-python",
   "name": "python",
   "nbconvert_exporter": "python",
   "pygments_lexer": "ipython3",
   "version": "3.7.6"
  }
 },
 "nbformat": 4,
 "nbformat_minor": 4
}
